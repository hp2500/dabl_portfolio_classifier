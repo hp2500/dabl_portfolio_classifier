{
 "cells": [
  {
   "cell_type": "markdown",
   "metadata": {},
   "source": [
    "# Analyze successful runs by classifier"
   ]
  },
  {
   "cell_type": "markdown",
   "metadata": {},
   "source": [
    "## Import modules"
   ]
  },
  {
   "cell_type": "code",
   "execution_count": 38,
   "metadata": {},
   "outputs": [],
   "source": [
    "import openml\n",
    "import re\n",
    "import numpy as np\n",
    "import pandas as pd\n",
    "import json\n",
    "from collections import Counter\n",
    "from matplotlib import pyplot as plt\n",
    "from utils.functions_analyze_runs import get_best_classifiers, count_classifiers, task_to_runs\n",
    "from utils.functions_analyze_runs import get_run_info_svc, get_run_info, svc_param_test, svc_param_test_local\n",
    "\n",
    "# set api key\n",
    "openml.config.apikey = open('.key', 'r').readline().strip('\\n')\n"
   ]
  },
  {
   "cell_type": "code",
   "execution_count": 39,
   "metadata": {},
   "outputs": [
    {
     "data": {
      "text/plain": [
       "<module 'utils.functions_analyze_runs' from '/Users/hp2500/Google Drive/STUDY/Columbia/Research/dabl_final/utils/functions_analyze_runs.py'>"
      ]
     },
     "execution_count": 39,
     "metadata": {},
     "output_type": "execute_result"
    }
   ],
   "source": [
    "import importlib\n",
    "import utils.functions_analyze_runs\n",
    "importlib.reload(utils.functions_analyze_runs)"
   ]
  },
  {
   "cell_type": "markdown",
   "metadata": {},
   "source": [
    "## Identify best runs"
   ]
  },
  {
   "cell_type": "code",
   "execution_count": null,
   "metadata": {},
   "outputs": [],
   "source": [
    "# get all supervised classification tasks\n",
    "tasks_all = openml.tasks.list_tasks(task_type_id=1, output_format='dataframe', tag = 'OpenML-CC18')\n",
    "tasks_temp = tasks_all[0:5]\n",
    "tasks_temp"
   ]
  },
  {
   "cell_type": "code",
   "execution_count": null,
   "metadata": {
    "scrolled": true
   },
   "outputs": [],
   "source": [
    "dict_runs_before = utils.functions_analyze_runs.get_best_classifiers(tasks_all,\n",
    "                                                              evaluation_metric='area_under_roc_curve',\n",
    "                                                              cutoff_best=5,\n",
    "                                                              keep_duplicates=True,\n",
    "                                                             cutoff_date='2019-06-01 00:00:00')\n",
    "                                                             "
   ]
  },
  {
   "cell_type": "code",
   "execution_count": null,
   "metadata": {
    "scrolled": true
   },
   "outputs": [],
   "source": [
    "# extract well-performing flows from tasks\n",
    "dict_runs = get_best_classifiers(tasks_all,\n",
    "                           evaluation_metric='area_under_roc_curve',\n",
    "                           cutoff_best=5,\n",
    "                           keep_duplicates=True)"
   ]
  },
  {
   "cell_type": "code",
   "execution_count": 14,
   "metadata": {},
   "outputs": [],
   "source": [
    "# save dict to file\n",
    "file = open('dict_runs_duplicates.txt', 'w')\n",
    "file.write(str(dict_runs))\n",
    "file.close()"
   ]
  },
  {
   "cell_type": "markdown",
   "metadata": {},
   "source": [
    "## Analyze data"
   ]
  },
  {
   "cell_type": "markdown",
   "metadata": {},
   "source": [
    "### Collect values from dicts"
   ]
  },
  {
   "cell_type": "code",
   "execution_count": 15,
   "metadata": {
    "scrolled": true
   },
   "outputs": [
    {
     "data": {
      "text/html": [
       "<div>\n",
       "<style scoped>\n",
       "    .dataframe tbody tr th:only-of-type {\n",
       "        vertical-align: middle;\n",
       "    }\n",
       "\n",
       "    .dataframe tbody tr th {\n",
       "        vertical-align: top;\n",
       "    }\n",
       "\n",
       "    .dataframe thead th {\n",
       "        text-align: right;\n",
       "    }\n",
       "</style>\n",
       "<table border=\"1\" class=\"dataframe\">\n",
       "  <thead>\n",
       "    <tr style=\"text-align: right;\">\n",
       "      <th></th>\n",
       "      <th>nr_runs</th>\n",
       "      <th>nr_flows</th>\n",
       "    </tr>\n",
       "    <tr>\n",
       "      <th>task_id</th>\n",
       "      <th></th>\n",
       "      <th></th>\n",
       "    </tr>\n",
       "  </thead>\n",
       "  <tbody>\n",
       "    <tr>\n",
       "      <th>3</th>\n",
       "      <td>35848</td>\n",
       "      <td>138</td>\n",
       "    </tr>\n",
       "    <tr>\n",
       "      <th>6</th>\n",
       "      <td>31198</td>\n",
       "      <td>127</td>\n",
       "    </tr>\n",
       "    <tr>\n",
       "      <th>11</th>\n",
       "      <td>19804</td>\n",
       "      <td>125</td>\n",
       "    </tr>\n",
       "    <tr>\n",
       "      <th>12</th>\n",
       "      <td>19733</td>\n",
       "      <td>118</td>\n",
       "    </tr>\n",
       "    <tr>\n",
       "      <th>14</th>\n",
       "      <td>19518</td>\n",
       "      <td>105</td>\n",
       "    </tr>\n",
       "    <tr>\n",
       "      <th>...</th>\n",
       "      <td>...</td>\n",
       "      <td>...</td>\n",
       "    </tr>\n",
       "    <tr>\n",
       "      <th>167121</th>\n",
       "      <td>40</td>\n",
       "      <td>9</td>\n",
       "    </tr>\n",
       "    <tr>\n",
       "      <th>167124</th>\n",
       "      <td>73</td>\n",
       "      <td>9</td>\n",
       "    </tr>\n",
       "    <tr>\n",
       "      <th>167125</th>\n",
       "      <td>1421</td>\n",
       "      <td>8</td>\n",
       "    </tr>\n",
       "    <tr>\n",
       "      <th>167140</th>\n",
       "      <td>4220</td>\n",
       "      <td>34</td>\n",
       "    </tr>\n",
       "    <tr>\n",
       "      <th>167141</th>\n",
       "      <td>4898</td>\n",
       "      <td>37</td>\n",
       "    </tr>\n",
       "  </tbody>\n",
       "</table>\n",
       "<p>72 rows × 2 columns</p>\n",
       "</div>"
      ],
      "text/plain": [
       "        nr_runs nr_flows\n",
       "task_id                 \n",
       "3         35848      138\n",
       "6         31198      127\n",
       "11        19804      125\n",
       "12        19733      118\n",
       "14        19518      105\n",
       "...         ...      ...\n",
       "167121       40        9\n",
       "167124       73        9\n",
       "167125     1421        8\n",
       "167140     4220       34\n",
       "167141     4898       37\n",
       "\n",
       "[72 rows x 2 columns]"
      ]
     },
     "execution_count": 15,
     "metadata": {},
     "output_type": "execute_result"
    }
   ],
   "source": [
    "# initialize empty df to count runs and flows\n",
    "df_nr_flows_runs_before = pd.DataFrame(columns = ['task_id', 'nr_runs', 'nr_flows'])\n",
    "\n",
    "# initialize empty list for all classifier names\n",
    "list_clf_before = []\n",
    "\n",
    "# iterate through dict\n",
    "for key, value in dict_runs_before.items():\n",
    "    \n",
    "    df_nr_flows_runs_before.loc[len(df_nr_flows_runs_before)] = [key, value['nr_runs'],value['nr_flows']]\n",
    "    # print(key, value['nr_runs'], value['nr_flows'])\n",
    "    \n",
    "    for k in value['run_data'].items():\n",
    "        # print(k[1]['clf_name'])\n",
    "\n",
    "        list_clf_before.append(k[1]['clf_name'])\n",
    "\n",
    "df_nr_flows_runs_before = df_nr_flows_runs_before.set_index('task_id', drop = True)\n",
    "df_nr_flows_runs_before"
   ]
  },
  {
   "cell_type": "code",
   "execution_count": 16,
   "metadata": {
    "scrolled": true
   },
   "outputs": [],
   "source": [
    "# initialize empty df to count runs and flows\n",
    "df_nr_flows_runs = pd.DataFrame(columns = ['task_id', 'nr_runs', 'nr_flows'])\n",
    "\n",
    "# initialize empty list for all classifier names\n",
    "list_clf = []\n",
    "\n",
    "# iterate through dict\n",
    "for key, value in dict_runs.items():\n",
    "    \n",
    "    df_nr_flows_runs.loc[len(df_nr_flows_runs)] = [key, value['nr_runs'],value['nr_flows']]\n",
    "    # print(key, value['nr_runs'], value['nr_flows'])\n",
    "    \n",
    "    for k in value['run_data'].items():\n",
    "        # print(k[1]['clf_name'])\n",
    "\n",
    "        list_clf.append(k[1]['clf_name'])\n",
    "\n",
    "\n"
   ]
  },
  {
   "cell_type": "code",
   "execution_count": 17,
   "metadata": {
    "scrolled": true
   },
   "outputs": [
    {
     "data": {
      "text/html": [
       "<div>\n",
       "<style scoped>\n",
       "    .dataframe tbody tr th:only-of-type {\n",
       "        vertical-align: middle;\n",
       "    }\n",
       "\n",
       "    .dataframe tbody tr th {\n",
       "        vertical-align: top;\n",
       "    }\n",
       "\n",
       "    .dataframe thead th {\n",
       "        text-align: right;\n",
       "    }\n",
       "</style>\n",
       "<table border=\"1\" class=\"dataframe\">\n",
       "  <thead>\n",
       "    <tr style=\"text-align: right;\">\n",
       "      <th></th>\n",
       "      <th>nr_runs</th>\n",
       "      <th>nr_flows</th>\n",
       "    </tr>\n",
       "    <tr>\n",
       "      <th>task_id</th>\n",
       "      <th></th>\n",
       "      <th></th>\n",
       "    </tr>\n",
       "  </thead>\n",
       "  <tbody>\n",
       "    <tr>\n",
       "      <th>3</th>\n",
       "      <td>35848</td>\n",
       "      <td>138</td>\n",
       "    </tr>\n",
       "    <tr>\n",
       "      <th>6</th>\n",
       "      <td>31198</td>\n",
       "      <td>127</td>\n",
       "    </tr>\n",
       "    <tr>\n",
       "      <th>11</th>\n",
       "      <td>19804</td>\n",
       "      <td>125</td>\n",
       "    </tr>\n",
       "    <tr>\n",
       "      <th>12</th>\n",
       "      <td>19733</td>\n",
       "      <td>118</td>\n",
       "    </tr>\n",
       "    <tr>\n",
       "      <th>14</th>\n",
       "      <td>19518</td>\n",
       "      <td>105</td>\n",
       "    </tr>\n",
       "    <tr>\n",
       "      <th>...</th>\n",
       "      <td>...</td>\n",
       "      <td>...</td>\n",
       "    </tr>\n",
       "    <tr>\n",
       "      <th>167121</th>\n",
       "      <td>40</td>\n",
       "      <td>9</td>\n",
       "    </tr>\n",
       "    <tr>\n",
       "      <th>167124</th>\n",
       "      <td>73</td>\n",
       "      <td>9</td>\n",
       "    </tr>\n",
       "    <tr>\n",
       "      <th>167125</th>\n",
       "      <td>1421</td>\n",
       "      <td>8</td>\n",
       "    </tr>\n",
       "    <tr>\n",
       "      <th>167140</th>\n",
       "      <td>4220</td>\n",
       "      <td>34</td>\n",
       "    </tr>\n",
       "    <tr>\n",
       "      <th>167141</th>\n",
       "      <td>4898</td>\n",
       "      <td>37</td>\n",
       "    </tr>\n",
       "  </tbody>\n",
       "</table>\n",
       "<p>72 rows × 2 columns</p>\n",
       "</div>"
      ],
      "text/plain": [
       "        nr_runs nr_flows\n",
       "task_id                 \n",
       "3         35848      138\n",
       "6         31198      127\n",
       "11        19804      125\n",
       "12        19733      118\n",
       "14        19518      105\n",
       "...         ...      ...\n",
       "167121       40        9\n",
       "167124       73        9\n",
       "167125     1421        8\n",
       "167140     4220       34\n",
       "167141     4898       37\n",
       "\n",
       "[72 rows x 2 columns]"
      ]
     },
     "execution_count": 17,
     "metadata": {},
     "output_type": "execute_result"
    }
   ],
   "source": [
    "df_nr_flows_runs = df_nr_flows_runs.set_index('task_id', drop = True)\n",
    "df_nr_flows_runs\n"
   ]
  },
  {
   "cell_type": "markdown",
   "metadata": {},
   "source": [
    "### Check distribution of nr_runs over tasks"
   ]
  },
  {
   "cell_type": "code",
   "execution_count": 18,
   "metadata": {},
   "outputs": [
    {
     "data": {
      "text/plain": [
       "Text(0.5, 0, 'CC18 Tasks')"
      ]
     },
     "execution_count": 18,
     "metadata": {},
     "output_type": "execute_result"
    },
    {
     "data": {
      "image/png": "[encoded data removed]",
      "text/plain": [
       "<Figure size 1080x360 with 1 Axes>"
      ]
     },
     "metadata": {
      "needs_background": "light"
     },
     "output_type": "display_data"
    }
   ],
   "source": [
    "ax = df_nr_flows_runs_before.nr_runs.plot(kind = 'bar', figsize = (15,5))\n",
    "ax.set_title('Number Of Runs Per Task')\n",
    "ax.set_ylabel('Number Of Runs')\n",
    "ax.set_xlabel('CC18 Tasks')"
   ]
  },
  {
   "cell_type": "code",
   "execution_count": 19,
   "metadata": {},
   "outputs": [
    {
     "data": {
      "text/plain": [
       "Text(0.5, 0, 'CC18 Tasks')"
      ]
     },
     "execution_count": 19,
     "metadata": {},
     "output_type": "execute_result"
    },
    {
     "data": {
      "image/png": "[encoded data removed]",
      "text/plain": [
       "<Figure size 1080x360 with 1 Axes>"
      ]
     },
     "metadata": {
      "needs_background": "light"
     },
     "output_type": "display_data"
    }
   ],
   "source": [
    "ax = df_nr_flows_runs.nr_runs.plot(kind = 'bar', figsize = (15,5))\n",
    "ax.set_title('Number Of Runs Per Task')\n",
    "ax.set_ylabel('Number Of Runs')\n",
    "ax.set_xlabel('CC18 Tasks')"
   ]
  },
  {
   "cell_type": "markdown",
   "metadata": {},
   "source": [
    "### Check distribution of nr_flows over tasks"
   ]
  },
  {
   "cell_type": "code",
   "execution_count": 20,
   "metadata": {},
   "outputs": [
    {
     "data": {
      "text/plain": [
       "<matplotlib.axes._subplots.AxesSubplot at 0x1a1c122080>"
      ]
     },
     "execution_count": 20,
     "metadata": {},
     "output_type": "execute_result"
    },
    {
     "data": {
      "image/png": "[encoded data removed]",
      "text/plain": [
       "<Figure size 1440x504 with 1 Axes>"
      ]
     },
     "metadata": {
      "needs_background": "light"
     },
     "output_type": "display_data"
    }
   ],
   "source": [
    "df_nr_flows_runs.nr_flows.plot(kind = 'bar', figsize = (20,7))"
   ]
  },
  {
   "cell_type": "markdown",
   "metadata": {},
   "source": [
    "### Absolute frequencies of classifiers among top 5 over all tasks"
   ]
  },
  {
   "cell_type": "code",
   "execution_count": 21,
   "metadata": {},
   "outputs": [
    {
     "data": {
      "text/plain": [
       "Counter({'HistGradientBoostingClassifier': 119,\n",
       "         'SVC': 124,\n",
       "         'GradientBoostingClassifier': 6,\n",
       "         'RandomForestClassifier': 67,\n",
       "         'ExtraTreesClassifier': 1,\n",
       "         'AdaBoostClassifier': 27,\n",
       "         'KerasClassifier': 3,\n",
       "         'LogisticRegression': 5,\n",
       "         'MLPClassifier': 5,\n",
       "         'FKCEigenPro': 2})"
      ]
     },
     "execution_count": 21,
     "metadata": {},
     "output_type": "execute_result"
    }
   ],
   "source": [
    "# check absolute frequencies\n",
    "Counter(list_clf_before)"
   ]
  },
  {
   "cell_type": "code",
   "execution_count": 22,
   "metadata": {},
   "outputs": [
    {
     "data": {
      "text/plain": [
       "Counter({'HistGradientBoostingClassifier': 119,\n",
       "         'SVC': 124,\n",
       "         'GradientBoostingClassifier': 6,\n",
       "         'RandomForestClassifier': 67,\n",
       "         'ExtraTreesClassifier': 1,\n",
       "         'AdaBoostClassifier': 27,\n",
       "         'KerasClassifier': 3,\n",
       "         'LogisticRegression': 5,\n",
       "         'MLPClassifier': 5,\n",
       "         'FKCEigenPro': 2})"
      ]
     },
     "execution_count": 22,
     "metadata": {},
     "output_type": "execute_result"
    }
   ],
   "source": [
    "# check absolute frequencies\n",
    "Counter(list_clf)\n"
   ]
  },
  {
   "cell_type": "code",
   "execution_count": 23,
   "metadata": {},
   "outputs": [
    {
     "data": {
      "text/plain": [
       "Index(['SVC', 'HistGradientBoostingClassifier', 'RandomForestClassifier',\n",
       "       'AdaBoostClassifier', 'GradientBoostingClassifier',\n",
       "       'LogisticRegression', 'MLPClassifier', 'KerasClassifier', 'FKCEigenPro',\n",
       "       'ExtraTreesClassifier'],\n",
       "      dtype='object')"
      ]
     },
     "execution_count": 23,
     "metadata": {},
     "output_type": "execute_result"
    }
   ],
   "source": [
    "pd.Series(list_clf_before).value_counts(normalize = True).keys()"
   ]
  },
  {
   "cell_type": "code",
   "execution_count": 24,
   "metadata": {},
   "outputs": [
    {
     "data": {
      "text/plain": [
       "<matplotlib.axes._subplots.AxesSubplot at 0x1a196feda0>"
      ]
     },
     "execution_count": 24,
     "metadata": {},
     "output_type": "execute_result"
    },
    {
     "data": {
      "image/png": "[encoded data removed]",
      "text/plain": [
       "<Figure size 432x288 with 1 Axes>"
      ]
     },
     "metadata": {
      "needs_background": "light"
     },
     "output_type": "display_data"
    }
   ],
   "source": [
    "pd.Series(list_clf).value_counts(normalize = True).plot(kind = 'bar')"
   ]
  },
  {
   "cell_type": "code",
   "execution_count": 25,
   "metadata": {},
   "outputs": [
    {
     "data": {
      "text/plain": [
       "<matplotlib.axes._subplots.AxesSubplot at 0x1a19fc5240>"
      ]
     },
     "execution_count": 25,
     "metadata": {},
     "output_type": "execute_result"
    },
    {
     "data": {
      "image/png": "[encoded data removed]",
      "text/plain": [
       "<Figure size 432x288 with 1 Axes>"
      ]
     },
     "metadata": {
      "needs_background": "light"
     },
     "output_type": "display_data"
    }
   ],
   "source": [
    "pd.Series(list_clf_before).value_counts(normalize = True).plot(kind = 'bar')"
   ]
  },
  {
   "cell_type": "code",
   "execution_count": 26,
   "metadata": {},
   "outputs": [
    {
     "ename": "NameError",
     "evalue": "name 'heights' is not defined",
     "output_type": "error",
     "traceback": [
      "\u001b[0;31m---------------------------------------------------------------------------\u001b[0m",
      "\u001b[0;31mNameError\u001b[0m                                 Traceback (most recent call last)",
      "\u001b[0;32m<ipython-input-26-1affd25e5c1d>\u001b[0m in \u001b[0;36m<module>\u001b[0;34m\u001b[0m\n\u001b[0;32m----> 1\u001b[0;31m \u001b[0mlist\u001b[0m\u001b[0;34m(\u001b[0m\u001b[0mrange\u001b[0m\u001b[0;34m(\u001b[0m\u001b[0;36m1\u001b[0m\u001b[0;34m,\u001b[0m \u001b[0mlen\u001b[0m\u001b[0;34m(\u001b[0m\u001b[0mheights\u001b[0m\u001b[0;34m+\u001b[0m\u001b[0;36m1\u001b[0m\u001b[0;34m)\u001b[0m\u001b[0;34m)\u001b[0m\u001b[0;34m)\u001b[0m\u001b[0;34m\u001b[0m\u001b[0;34m\u001b[0m\u001b[0m\n\u001b[0m",
      "\u001b[0;31mNameError\u001b[0m: name 'heights' is not defined"
     ]
    }
   ],
   "source": [
    "list(range(1, len(heights+1)))"
   ]
  },
  {
   "cell_type": "code",
   "execution_count": 27,
   "metadata": {},
   "outputs": [
    {
     "data": {
      "text/plain": [
       "Text(0.5, 1.0, 'After HGB Experiments')"
      ]
     },
     "execution_count": 27,
     "metadata": {},
     "output_type": "execute_result"
    },
    {
     "data": {
      "image/png": "[encoded data removed]",
      "text/plain": [
       "<Figure size 1008x432 with 2 Axes>"
      ]
     },
     "metadata": {
      "needs_background": "light"
     },
     "output_type": "display_data"
    }
   ],
   "source": [
    "# check distributions of personality scores over clusters\n",
    "fig, ax = plt.subplots(1, 2, figsize = (14,6), sharex='col', sharey='row')\n",
    "\n",
    "# plot absolute frequencies before\n",
    "heights = pd.Series(list_clf_before).value_counts(normalize = True)\n",
    "\n",
    "ax[0].bar(x = list(range(len(heights))), height = heights)\n",
    "ax[0].set_xticks(list(range(len(heights))))\n",
    "ax[0].set_xticklabels(heights.index, rotation = 90)\n",
    "ax[0].set_ylabel('Proportion of Top-5 Runs')\n",
    "ax[0].set_title('Before HGB Experiments')\n",
    "\n",
    "# plot absolute frequencies before\n",
    "heights = pd.Series(list_clf).value_counts(normalize = True)\n",
    "ax[1].set_xticks(list(range(len(heights))))\n",
    "ax[1].bar(x = list(range(len(heights))), height = heights)\n",
    "ax[1].set_xticklabels(heights.index, rotation = 90)\n",
    "ax[1].set_ylabel('Proportion of Top-5 Runs')\n",
    "ax[1].set_title('After HGB Experiments')\n"
   ]
  },
  {
   "cell_type": "code",
   "execution_count": 28,
   "metadata": {},
   "outputs": [
    {
     "data": {
      "text/plain": [
       "Text(0.5, 1.0, 'Proportions Of Top-5 Runs Of Different Classifiers')"
      ]
     },
     "execution_count": 28,
     "metadata": {},
     "output_type": "execute_result"
    },
    {
     "data": {
      "image/png": "[encoded data removed]",
      "text/plain": [
       "<Figure size 1080x360 with 1 Axes>"
      ]
     },
     "metadata": {
      "needs_background": "light"
     },
     "output_type": "display_data"
    }
   ],
   "source": [
    "# plot absolute frequencies\n",
    "ax = pd.Series(list_clf).value_counts(normalize = True).plot(kind='bar', figsize = (15,5))\n",
    "ax.set_ylabel('Proportion of Top-5 Runs')\n",
    "ax.set_title('Proportions Of Top-5 Runs Of Different Classifiers')\n",
    "\n"
   ]
  },
  {
   "cell_type": "markdown",
   "metadata": {},
   "source": [
    "### Check overall number of runs for each classifier"
   ]
  },
  {
   "cell_type": "code",
   "execution_count": null,
   "metadata": {
    "scrolled": false
   },
   "outputs": [],
   "source": [
    "baserates = count_classifiers(tasks_all, keep_duplicates = True)"
   ]
  },
  {
   "cell_type": "code",
   "execution_count": null,
   "metadata": {},
   "outputs": [],
   "source": [
    "file = open('baserates.txt', 'w')\n",
    "file.write(str(baserates))\n",
    "file.close()"
   ]
  },
  {
   "cell_type": "code",
   "execution_count": null,
   "metadata": {},
   "outputs": [],
   "source": [
    "list_baserates = list(baserates.clf_name)"
   ]
  },
  {
   "cell_type": "code",
   "execution_count": null,
   "metadata": {},
   "outputs": [],
   "source": [
    "Counter(list_baserates)"
   ]
  },
  {
   "cell_type": "code",
   "execution_count": null,
   "metadata": {},
   "outputs": [],
   "source": [
    "# plot frequencies\n",
    "baserates.clf_name.value_counts().plot(kind='bar', figsize = (20,10))\n"
   ]
  },
  {
   "cell_type": "code",
   "execution_count": null,
   "metadata": {},
   "outputs": [],
   "source": [
    "# drop classifiers that never were among the top 5\n",
    "set_best = set(list_clf)\n",
    "baserates_clean = [x for x in list_baserates if x in set_best]"
   ]
  },
  {
   "cell_type": "code",
   "execution_count": null,
   "metadata": {},
   "outputs": [],
   "source": [
    "# check frequencies\n",
    "Counter(baserates_clean)\n"
   ]
  },
  {
   "cell_type": "code",
   "execution_count": null,
   "metadata": {},
   "outputs": [],
   "source": [
    "# plot frequencies\n",
    "pd.Series(baserates_clean).value_counts().plot(kind='bar', figsize = (20,10))\n"
   ]
  },
  {
   "cell_type": "markdown",
   "metadata": {},
   "source": [
    "### Check proportion of successful runs relative to overall number of runs per classifier"
   ]
  },
  {
   "cell_type": "code",
   "execution_count": null,
   "metadata": {},
   "outputs": [],
   "source": [
    "Counter(baserates_clean)"
   ]
  },
  {
   "cell_type": "code",
   "execution_count": null,
   "metadata": {},
   "outputs": [],
   "source": [
    "Counter(list_clf)"
   ]
  },
  {
   "cell_type": "code",
   "execution_count": null,
   "metadata": {},
   "outputs": [],
   "source": [
    "# define function to calculate \n",
    "def rel_freq_dict(d1, d2):\n",
    "    for key, value in d1.items():\n",
    "        d1[key] = value / d2.get(key, 0)\n",
    "    return dict(d1)"
   ]
  },
  {
   "cell_type": "code",
   "execution_count": null,
   "metadata": {},
   "outputs": [],
   "source": [
    "# correct for baserates\n",
    "rel_freq = rel_freq_dict(Counter(list_clf), Counter(baserates_clean))\n",
    "rel_freq"
   ]
  },
  {
   "cell_type": "code",
   "execution_count": null,
   "metadata": {},
   "outputs": [],
   "source": [
    "# sort values\n",
    "pd.Series(rel_freq).sort_values(ascending = False)"
   ]
  },
  {
   "cell_type": "code",
   "execution_count": null,
   "metadata": {},
   "outputs": [],
   "source": [
    "# plot\n",
    "pd.Series(rel_freq).sort_values(ascending = False).plot(kind='bar', figsize = (20, 10))\n"
   ]
  },
  {
   "cell_type": "markdown",
   "metadata": {},
   "source": [
    "### After dropping tasks with very few runs/flows"
   ]
  },
  {
   "cell_type": "code",
   "execution_count": null,
   "metadata": {},
   "outputs": [],
   "source": [
    "# transform dict to list\n",
    "\n",
    "# initialize empty df to count runs and flows\n",
    "df_nr_flows_runs = pd.DataFrame(columns = ['task_id', 'nr_runs', 'nr_flows'])\n",
    "\n",
    "# initialize empty list for all classifier names\n",
    "list_clf = []\n",
    "\n",
    "# iterate through dict\n",
    "for key, value in dict_runs.items():\n",
    "    \n",
    "    if value['nr_runs'] > 1000:\n",
    "        df_nr_flows_runs.loc[len(df_nr_flows_runs)] = [key, value['nr_runs'],value['nr_flows']]\n",
    "        #print(key, value['nr_runs'], value['nr_flows'])\n",
    "        for k in value['run_data'].items():\n",
    "            #print(k[1]['clf_name'])\n",
    "\n",
    "            #print(k[0])\n",
    "            #print(k[1])\n",
    "            list_clf.append(k[1]['clf_name'])\n"
   ]
  },
  {
   "cell_type": "code",
   "execution_count": null,
   "metadata": {},
   "outputs": [],
   "source": [
    "df_nr_flows_runs.head()"
   ]
  },
  {
   "cell_type": "code",
   "execution_count": null,
   "metadata": {},
   "outputs": [],
   "source": [
    "baserates"
   ]
  },
  {
   "cell_type": "code",
   "execution_count": null,
   "metadata": {
    "scrolled": true
   },
   "outputs": [],
   "source": [
    "temp = df_nr_flows_runs.loc[df_nr_flows_runs.nr_runs > 10000].task_id"
   ]
  },
  {
   "cell_type": "code",
   "execution_count": null,
   "metadata": {},
   "outputs": [],
   "source": [
    "baserates_clean = baserates.loc[baserates.task_id.isin(temp)]"
   ]
  },
  {
   "cell_type": "code",
   "execution_count": null,
   "metadata": {},
   "outputs": [],
   "source": [
    "Counter(baserates_clean.clf_name)"
   ]
  },
  {
   "cell_type": "code",
   "execution_count": null,
   "metadata": {},
   "outputs": [],
   "source": [
    "# drop classifiers that never performed well\n",
    "set_best = set(list_clf)\n",
    "baserates_clean = [x for x in list_baserates if x in set_best]"
   ]
  },
  {
   "cell_type": "code",
   "execution_count": null,
   "metadata": {},
   "outputs": [],
   "source": [
    "cbr = dict(Counter(list_baserates))\n",
    "cbr_new = []\n",
    "for i in cbr.items():\n",
    "    if i[1] > 20:\n",
    "        cbr_new.append(i[0])"
   ]
  },
  {
   "cell_type": "code",
   "execution_count": null,
   "metadata": {},
   "outputs": [],
   "source": [
    "# drop classifiers that dont occur often enough\n",
    "set_n = set(cbr_new)\n",
    "baserates_clean = [x for x in baserates_clean if x in set_n]\n",
    "clf_clean = [x for x in list_clf if x in set_n]"
   ]
  },
  {
   "cell_type": "code",
   "execution_count": null,
   "metadata": {},
   "outputs": [],
   "source": [
    "# plot absolute frequencies\n",
    "pd.Series(clf_clean).value_counts().plot(kind='bar', figsize = (20,10))"
   ]
  },
  {
   "cell_type": "code",
   "execution_count": null,
   "metadata": {},
   "outputs": [],
   "source": [
    "# correct for baserates\n",
    "rel_freq = rel_freq_dict(Counter(clf_clean), Counter(baserates_clean))\n",
    "rel_freq"
   ]
  },
  {
   "cell_type": "code",
   "execution_count": null,
   "metadata": {},
   "outputs": [],
   "source": [
    "# plot\n",
    "pd.Series(rel_freq).sort_values(ascending = False).plot(kind='bar', figsize = (20, 10))"
   ]
  },
  {
   "cell_type": "markdown",
   "metadata": {},
   "source": [
    "### Get SVC flows "
   ]
  },
  {
   "cell_type": "code",
   "execution_count": null,
   "metadata": {},
   "outputs": [],
   "source": [
    "dict_runs"
   ]
  },
  {
   "cell_type": "code",
   "execution_count": 30,
   "metadata": {
    "scrolled": true
   },
   "outputs": [
    {
     "name": "stdout",
     "output_type": "stream",
     "text": [
      "3 6 11 12 14 15 16 18 22 23 28 29 31 32 37 43 45 49 53 219 2074 2079 3021 3022 3481 3549 3560 3573 3902 3903 3904 3913 3917 3918 7592 9910 9946 9952 9957 9960 9964 9971 9976 9977 9978 9981 9985 10093 10101 14952 14954 14965 14969 14970 125920 125922 146195 146800 146817 146819 146820 146821 146822 146824 146825 167119 167120 167121 167124 167125 167140 167141 "
     ]
    }
   ],
   "source": [
    "# transform dict to list\n",
    "\n",
    "# initialize empty list for all classifier names\n",
    "list_svc_runs = []\n",
    "\n",
    "# iterate through dict\n",
    "for key, value in dict_runs.items():\n",
    "    \n",
    "    print(key, '', end = '')\n",
    "    \n",
    "    for k in value['run_data'].items():\n",
    "        if k[1]['clf_name'] == 'SVC':\n",
    "            list_svc_runs.append(k[0])\n"
   ]
  },
  {
   "cell_type": "code",
   "execution_count": 31,
   "metadata": {},
   "outputs": [
    {
     "data": {
      "text/plain": [
       "124"
      ]
     },
     "execution_count": 31,
     "metadata": {},
     "output_type": "execute_result"
    }
   ],
   "source": [
    "len(list_svc_runs)"
   ]
  },
  {
   "cell_type": "code",
   "execution_count": 32,
   "metadata": {},
   "outputs": [],
   "source": [
    "list_svc_flows = []\n",
    "\n",
    "for i in list_svc_runs:\n",
    "    run = openml.runs.get_run(i)\n",
    "    list_svc_flows.append(run.flow_id)\n",
    "    "
   ]
  },
  {
   "cell_type": "code",
   "execution_count": 33,
   "metadata": {},
   "outputs": [
    {
     "data": {
      "text/plain": [
       "[6952, 6954, 8330, 8317, 16374, 16345, 7707, 6269, 5983]"
      ]
     },
     "execution_count": 33,
     "metadata": {},
     "output_type": "execute_result"
    }
   ],
   "source": [
    "list(set(list_svc_flows))"
   ]
  },
  {
   "cell_type": "code",
   "execution_count": null,
   "metadata": {},
   "outputs": [],
   "source": [
    "for i in list(set(list_svc_flows)):\n",
    "    flow = openml.flows.get_flow(i)\n",
    "    print(i)\n",
    "    print(flow.name)\n",
    "    print()"
   ]
  },
  {
   "cell_type": "markdown",
   "metadata": {},
   "source": [
    "# Get RF Flows "
   ]
  },
  {
   "cell_type": "code",
   "execution_count": 34,
   "metadata": {},
   "outputs": [
    {
     "name": "stdout",
     "output_type": "stream",
     "text": [
      "3 6 11 12 14 15 16 18 22 23 28 29 31 32 37 43 45 49 53 219 2074 2079 3021 3022 3481 3549 3560 3573 3902 3903 3904 3913 3917 3918 7592 9910 9946 9952 9957 9960 9964 9971 9976 9977 9978 9981 9985 10093 10101 14952 14954 14965 14969 14970 125920 125922 146195 146800 146817 146819 146820 146821 146822 146824 146825 167119 167120 167121 167124 167125 167140 167141 "
     ]
    }
   ],
   "source": [
    "# transform dict to list\n",
    "\n",
    "# initialize empty list for all classifier names\n",
    "list_rf_runs = []\n",
    "\n",
    "# iterate through dict\n",
    "for key, value in dict_runs.items():\n",
    "    \n",
    "    print(key, '', end = '')\n",
    "    \n",
    "    for k in value['run_data'].items():\n",
    "        if k[1]['clf_name'] == 'RandomForestClassifier':\n",
    "            list_rf_runs.append(k[0])\n"
   ]
  },
  {
   "cell_type": "code",
   "execution_count": 35,
   "metadata": {},
   "outputs": [],
   "source": [
    "list_rf_flows = []\n",
    "\n",
    "for i in list_rf_runs:\n",
    "    run = openml.runs.get_run(i)\n",
    "    list_rf_flows.append(run.flow_id)\n",
    "    "
   ]
  },
  {
   "cell_type": "code",
   "execution_count": 36,
   "metadata": {},
   "outputs": [
    {
     "data": {
      "text/plain": [
       "[5804, 8365, 5909, 8918, 6969, 8315, 8351]"
      ]
     },
     "execution_count": 36,
     "metadata": {},
     "output_type": "execute_result"
    }
   ],
   "source": [
    "list(set(list_rf_flows))"
   ]
  },
  {
   "cell_type": "markdown",
   "metadata": {},
   "source": [
    "# Compare bot runs to new runs"
   ]
  },
  {
   "cell_type": "code",
   "execution_count": null,
   "metadata": {},
   "outputs": [],
   "source": [
    "x = task_to_runs(11)"
   ]
  },
  {
   "cell_type": "code",
   "execution_count": null,
   "metadata": {},
   "outputs": [],
   "source": [
    "x.flow_name.iloc[1]"
   ]
  },
  {
   "cell_type": "code",
   "execution_count": null,
   "metadata": {},
   "outputs": [],
   "source": [
    "x"
   ]
  },
  {
   "cell_type": "code",
   "execution_count": null,
   "metadata": {},
   "outputs": [],
   "source": [
    "params = get_run_info(6058985)\n",
    "params"
   ]
  },
  {
   "cell_type": "code",
   "execution_count": null,
   "metadata": {},
   "outputs": [],
   "source": [
    "params = get_run_info_svc(6058985)\n",
    "params"
   ]
  },
  {
   "cell_type": "markdown",
   "metadata": {},
   "source": [
    "## Original setup"
   ]
  },
  {
   "cell_type": "code",
   "execution_count": null,
   "metadata": {},
   "outputs": [],
   "source": [
    "params_0 = {'C': 5.3824120488001554,\n",
    "          'cache_size': 200,\n",
    "          'coef0': 0.0,\n",
    "          'degree': 3,\n",
    "          'gamma': 0.06797377929157812,\n",
    "          'kernel': \"rbf\",\n",
    "          'max_iter': -1,\n",
    "          'probability': True,\n",
    "          'random_state': 18122,\n",
    "          'shrinking': False,\n",
    "          'tol': 1.220351186258478e-05,\n",
    "          'verbose': False}\n",
    "\n",
    "run_params_0 = svc_param_test(6, 6058985, params_0)"
   ]
  },
  {
   "cell_type": "code",
   "execution_count": null,
   "metadata": {},
   "outputs": [],
   "source": [
    "openml.evaluations.list_evaluations('area_under_roc_curve', id = [run_params_0.run_id])"
   ]
  },
  {
   "cell_type": "markdown",
   "metadata": {},
   "source": [
    "## Parameters that were used"
   ]
  },
  {
   "cell_type": "code",
   "execution_count": null,
   "metadata": {},
   "outputs": [],
   "source": [
    "params_1 = {'C': 5.3824120488001554,\n",
    "          'coef0': 0.0,\n",
    "          'degree': 3,\n",
    "          'gamma': 0.06797377929157812,\n",
    "          'kernel': 'rbf',\n",
    "          'max_iter': -1,\n",
    "          'random_state': 1}\n",
    "\n",
    "run_params_1 = svc_param_test(6, 6058985, params_1)"
   ]
  },
  {
   "cell_type": "code",
   "execution_count": null,
   "metadata": {},
   "outputs": [],
   "source": [
    "openml.evaluations.list_evaluations('area_under_roc_curve', id = [run_params_1.run_id])"
   ]
  },
  {
   "cell_type": "markdown",
   "metadata": {},
   "source": [
    "## Try original random seed"
   ]
  },
  {
   "cell_type": "code",
   "execution_count": null,
   "metadata": {},
   "outputs": [],
   "source": [
    "params_2 = {'C': 5.3824120488001554,\n",
    "          'coef0': 0.0,\n",
    "          'degree': 3,\n",
    "          'gamma': 0.06797377929157812,\n",
    "          'kernel': 'rbf',\n",
    "          'max_iter': -1,\n",
    "          'random_state': 18122}\n",
    "\n",
    "run_params_2 = svc_param_test(6, 6058985, params_2)"
   ]
  },
  {
   "cell_type": "code",
   "execution_count": null,
   "metadata": {},
   "outputs": [],
   "source": [
    "openml.evaluations.list_evaluations('area_under_roc_curve', id = [run_params_2.run_id])"
   ]
  },
  {
   "cell_type": "markdown",
   "metadata": {},
   "source": [
    "## Drop parameters from original setup"
   ]
  },
  {
   "cell_type": "code",
   "execution_count": null,
   "metadata": {},
   "outputs": [],
   "source": [
    "params_3 = {'C': 5.3824120488001554,\n",
    "          'cache_size': 200,\n",
    "          'coef0': 0.0,\n",
    "          'degree': 3,\n",
    "          'gamma': 0.06797377929157812,\n",
    "          'kernel': \"rbf\",\n",
    "          'max_iter': -1,\n",
    "          'probability': True,\n",
    "          'random_state': 1,\n",
    "          'shrinking': False,\n",
    "          #'tol': 1.220351186258478e-05,\n",
    "          'verbose': False}\n",
    "\n",
    "run_params_3 = svc_param_test(6, 6058985, params_3)"
   ]
  },
  {
   "cell_type": "code",
   "execution_count": null,
   "metadata": {},
   "outputs": [],
   "source": [
    "openml.evaluations.list_evaluations('area_under_roc_curve', id = [run_params_3.run_id])"
   ]
  },
  {
   "cell_type": "code",
   "execution_count": null,
   "metadata": {},
   "outputs": [],
   "source": [
    "params_4 = {'C': 5.3824120488001554,\n",
    "          'cache_size': 200,\n",
    "          'coef0': 0.0,\n",
    "          'degree': 3,\n",
    "          'gamma': 0.06797377929157812,\n",
    "          'kernel': \"rbf\",\n",
    "          'max_iter': -1,\n",
    "          'probability': True,\n",
    "          'random_state': 1,\n",
    "          #'shrinking': False,\n",
    "          #'tol': 1.220351186258478e-05,\n",
    "          'verbose': False}\n",
    "\n",
    "run_params_4 = svc_param_test(6, 6058985, params_4)"
   ]
  },
  {
   "cell_type": "code",
   "execution_count": null,
   "metadata": {},
   "outputs": [],
   "source": [
    "openml.evaluations.list_evaluations('area_under_roc_curve', id = [run_params_4.run_id])"
   ]
  },
  {
   "cell_type": "code",
   "execution_count": null,
   "metadata": {},
   "outputs": [],
   "source": [
    "params_5 = {'C': 5.3824120488001554,\n",
    "          #'cache_size': 200,\n",
    "          'coef0': 0.0,\n",
    "          'degree': 3,\n",
    "          'gamma': 0.06797377929157812,\n",
    "          'kernel': \"rbf\",\n",
    "          'max_iter': -1,\n",
    "          'probability': True,\n",
    "          'random_state': 1,\n",
    "          #'shrinking': False,\n",
    "          #'tol': 1.220351186258478e-05,\n",
    "          'verbose': False}\n",
    "\n",
    "run_params_5 = svc_param_test(6, 6058985, params_5)"
   ]
  },
  {
   "cell_type": "code",
   "execution_count": null,
   "metadata": {},
   "outputs": [],
   "source": [
    "openml.evaluations.list_evaluations('area_under_roc_curve', id = [run_params_5.run_id])"
   ]
  },
  {
   "cell_type": "code",
   "execution_count": null,
   "metadata": {},
   "outputs": [],
   "source": [
    "params_6 = {'C': 5.3824120488001554,\n",
    "          #'cache_size': 200,\n",
    "          'coef0': 0.0,\n",
    "          'degree': 3,\n",
    "          'gamma': 0.06797377929157812,\n",
    "          'kernel': \"rbf\",\n",
    "          'max_iter': -1,\n",
    "          #'probability': True,\n",
    "          'random_state': 1,\n",
    "          #'shrinking': False,\n",
    "          #'tol': 1.220351186258478e-05,\n",
    "          'verbose': False}\n",
    "\n",
    "run_params_6 = svc_param_test(6, 6058985, params_6)"
   ]
  },
  {
   "cell_type": "code",
   "execution_count": null,
   "metadata": {},
   "outputs": [],
   "source": [
    "openml.evaluations.list_evaluations('area_under_roc_curve', id = [run_params_6.run_id])"
   ]
  },
  {
   "cell_type": "code",
   "execution_count": null,
   "metadata": {},
   "outputs": [],
   "source": [
    "params_7 = {'C': 5.3824120488001554,\n",
    "          'cache_size': 200,\n",
    "          'coef0': 0.0,\n",
    "          'degree': 3,\n",
    "          'gamma': 0.06797377929157812,\n",
    "          'kernel': \"rbf\",\n",
    "          'max_iter': -1,\n",
    "          #'probability': True,\n",
    "          'random_state': 1,\n",
    "          'shrinking': False,\n",
    "          'tol': 1.220351186258478e-05,\n",
    "          'verbose': False}\n",
    "\n",
    "run_params_7 = svc_param_test(6, 6058985, params_7)"
   ]
  },
  {
   "cell_type": "code",
   "execution_count": null,
   "metadata": {},
   "outputs": [],
   "source": [
    "openml.evaluations.list_evaluations('area_under_roc_curve', id = [run_params_7.run_id])"
   ]
  },
  {
   "cell_type": "code",
   "execution_count": null,
   "metadata": {},
   "outputs": [],
   "source": [
    "get_run_info(5919852)"
   ]
  },
  {
   "cell_type": "code",
   "execution_count": null,
   "metadata": {},
   "outputs": [],
   "source": [
    "params_8 = {'C': 22461.119025907585,\n",
    "         'coef0': -0.5424800953743301,\n",
    "         'degree': 2,\n",
    "         'gamma': 4.147016444636446,\n",
    "         'kernel': 'poly',\n",
    "         'max_iter': -1,\n",
    "         'random_state': 1}\n",
    "\n",
    "run_params_8 = svc_param_test(6, 6058985, params_8)"
   ]
  },
  {
   "cell_type": "code",
   "execution_count": null,
   "metadata": {},
   "outputs": [],
   "source": [
    "openml.evaluations.list_evaluations('area_under_roc_curve', id = [run_params_8.run_id])"
   ]
  },
  {
   "cell_type": "markdown",
   "metadata": {},
   "source": [
    "# Check another task "
   ]
  },
  {
   "cell_type": "code",
   "execution_count": null,
   "metadata": {},
   "outputs": [],
   "source": [
    "params_9 = {'C': 22461.119025907585,\n",
    "         'coef0': -0.5424800953743301,\n",
    "         'degree': 2,\n",
    "         'gamma': 4.147016444636446,\n",
    "         'kernel': 'poly',\n",
    "         'probability': True,\n",
    "         'max_iter': -1,\n",
    "         'random_state': 1}\n",
    "\n",
    "run_params_9 = svc_param_test(6, 6058985, params_9)"
   ]
  },
  {
   "cell_type": "code",
   "execution_count": null,
   "metadata": {
    "scrolled": true
   },
   "outputs": [],
   "source": [
    "openml.evaluations.list_evaluations('area_under_roc_curve', id = [run_params_9.run_id])"
   ]
  },
  {
   "cell_type": "code",
   "execution_count": null,
   "metadata": {},
   "outputs": [],
   "source": [
    "params_10 = {'C': 22461.119025907585,\n",
    "         'coef0': -0.5424800953743301,\n",
    "         'degree': 2,\n",
    "         'gamma': 4.147016444636446,\n",
    "         'kernel': 'poly',\n",
    "         'max_iter': -1,\n",
    "         'random_state': 1}\n",
    "\n",
    "run_params_10 = svc_param_test(11, 5919852, params_10)"
   ]
  },
  {
   "cell_type": "code",
   "execution_count": null,
   "metadata": {},
   "outputs": [],
   "source": [
    "openml.evaluations.list_evaluations('area_under_roc_curve', id = [run_params_10.run_id])"
   ]
  },
  {
   "cell_type": "code",
   "execution_count": null,
   "metadata": {},
   "outputs": [],
   "source": [
    "params_11 = {'C': 22461.119025907585,\n",
    "         'coef0': -0.5424800953743301,\n",
    "         'degree': 2,\n",
    "         'gamma': 4.147016444636446,\n",
    "         'kernel': 'poly',\n",
    "         'probability': True,\n",
    "         'max_iter': -1,\n",
    "         'random_state': 1}\n",
    "\n",
    "run_params_11 = svc_param_test(11, 5919852, params_11)"
   ]
  },
  {
   "cell_type": "code",
   "execution_count": null,
   "metadata": {},
   "outputs": [],
   "source": [
    "openml.evaluations.list_evaluations('area_under_roc_curve', id = [run_params_11.run_id])"
   ]
  },
  {
   "cell_type": "code",
   "execution_count": null,
   "metadata": {},
   "outputs": [],
   "source": [
    "test_run = openml.runs.get_run(10413201)"
   ]
  },
  {
   "cell_type": "code",
   "execution_count": null,
   "metadata": {
    "scrolled": true
   },
   "outputs": [],
   "source": [
    "vars(test_run)"
   ]
  },
  {
   "cell_type": "code",
   "execution_count": null,
   "metadata": {},
   "outputs": [],
   "source": [
    "test_run.fold_evaluations"
   ]
  },
  {
   "cell_type": "code",
   "execution_count": null,
   "metadata": {},
   "outputs": [],
   "source": [
    "test_task = openml.tasks.get_task(15)"
   ]
  },
  {
   "cell_type": "code",
   "execution_count": null,
   "metadata": {},
   "outputs": [],
   "source": [
    "vars(test_task)"
   ]
  },
  {
   "cell_type": "markdown",
   "metadata": {},
   "source": [
    "## Try locally on task 3"
   ]
  },
  {
   "cell_type": "code",
   "execution_count": null,
   "metadata": {},
   "outputs": [],
   "source": [
    "from sklearn.svm import SVC\n",
    "from sklearn.model_selection import cross_val_score\n",
    "from sklearn import datasets\n",
    "from sklearn.metrics import roc_auc_score"
   ]
  },
  {
   "cell_type": "code",
   "execution_count": null,
   "metadata": {},
   "outputs": [],
   "source": [
    "# get task\n",
    "task = openml.tasks.get_task(3)\n",
    "\n",
    "# get dataset object \n",
    "data = openml.datasets.get_dataset(task.dataset_id)\n",
    "\n",
    "# get relevant info from dataset object\n",
    "X, y, categorical_indicator, attribute_names = data.get_data(dataset_format='array',\n",
    "                                                            target=data.default_target_attribute)"
   ]
  },
  {
   "cell_type": "code",
   "execution_count": null,
   "metadata": {},
   "outputs": [],
   "source": [
    "svc = SVC(**params_5)\n",
    "cross_val_score(svc, X = X, y = y, scoring = 'roc_auc', cv = 2)\n"
   ]
  },
  {
   "cell_type": "code",
   "execution_count": null,
   "metadata": {},
   "outputs": [],
   "source": [
    "svc = SVC(**params_7)\n",
    "cross_val_score(svc, X = X, y = y, scoring = 'roc_auc', cv = 2)"
   ]
  },
  {
   "cell_type": "code",
   "execution_count": null,
   "metadata": {},
   "outputs": [],
   "source": [
    "X, y = datasets.load_breast_cancer(return_X_y=True)\n",
    "svc = SVC(**params_5)\n",
    "cross_val_score(svc, X = X, y = y, scoring = 'roc_auc', cv = 2)"
   ]
  },
  {
   "cell_type": "code",
   "execution_count": null,
   "metadata": {},
   "outputs": [],
   "source": [
    "X, y = datasets.load_breast_cancer(return_X_y=True)\n",
    "svc = SVC(**params_7)\n",
    "cross_val_score(svc, X = X, y = y, scoring = 'roc_auc', cv = 2)"
   ]
  },
  {
   "cell_type": "markdown",
   "metadata": {},
   "source": [
    "## Try locally on task 15"
   ]
  },
  {
   "cell_type": "code",
   "execution_count": null,
   "metadata": {},
   "outputs": [],
   "source": [
    "params_20 = {'C': 22461.119025907585,\n",
    "         'coef0': -0.5424800953743301,\n",
    "         'degree': 2,\n",
    "         'gamma': 4.147016444636446,\n",
    "         'kernel': 'poly',\n",
    "         'probability': False,\n",
    "         'max_iter': -1,\n",
    "         'random_state': 1}\n",
    "\n",
    "run_cv_params_20 = svc_param_test_local(15, params_20, 10)\n",
    "\n",
    "np.mean(run_cv_params_20)"
   ]
  },
  {
   "cell_type": "code",
   "execution_count": null,
   "metadata": {},
   "outputs": [],
   "source": [
    "run_cv_params_20"
   ]
  },
  {
   "cell_type": "code",
   "execution_count": null,
   "metadata": {
    "scrolled": true
   },
   "outputs": [],
   "source": [
    "params_20 = {'C': 22461.119025907585,\n",
    "         'coef0': -0.5424800953743301,\n",
    "         'degree': 2,\n",
    "         'gamma': 4.147016444636446,\n",
    "         'kernel': 'poly',\n",
    "         'probability': True,\n",
    "         'max_iter': -1,\n",
    "         'random_state': 1}\n",
    "\n",
    "run_cv_params_20 = svc_param_test_local(15, params_20, 10)\n",
    "np.mean(run_cv_params_20)"
   ]
  },
  {
   "cell_type": "code",
   "execution_count": null,
   "metadata": {
    "scrolled": true
   },
   "outputs": [],
   "source": [
    "params_21 = {'C': 22461.119025907585,\n",
    "         'coef0': -0.5424800953743301,\n",
    "         'degree': 2,\n",
    "         'gamma': 4.147016444636446,\n",
    "         'kernel': 'poly',\n",
    "         'probability': False,\n",
    "         'max_iter': -1,\n",
    "         'random_state': 1}\n",
    "\n",
    "run_cv_params_21 = svc_param_test_local(15, params_21, 10)\n",
    "np.mean(run_cv_params_21)"
   ]
  },
  {
   "cell_type": "code",
   "execution_count": null,
   "metadata": {
    "scrolled": true
   },
   "outputs": [],
   "source": [
    "params_22 = {'C': 22461.119025907585,\n",
    "         'coef0': -0.5424800953743301,\n",
    "         'degree': 2,\n",
    "         'gamma': 4.147016444636446,\n",
    "         'kernel': 'poly',\n",
    "         'probability': False,\n",
    "         'max_iter': -1,\n",
    "         'random_state': 1}\n",
    "\n",
    "run_params_22 = svc_param_test(15, 6148258, params_22)"
   ]
  },
  {
   "cell_type": "code",
   "execution_count": null,
   "metadata": {},
   "outputs": [],
   "source": [
    "openml.evaluations.list_evaluations('area_under_roc_curve', id = [run_params_22.run_id])"
   ]
  },
  {
   "cell_type": "code",
   "execution_count": null,
   "metadata": {},
   "outputs": [],
   "source": [
    "params_23 = {'C': 22461.119025907585,\n",
    "         'coef0': -0.5424800953743301,\n",
    "         'degree': 2,\n",
    "         'gamma': 4.147016444636446,\n",
    "         'kernel': 'poly',\n",
    "         'probability': True,\n",
    "         'max_iter': -1,\n",
    "         'random_state': 1}\n",
    "\n",
    "run_params_23 = svc_param_test(15, 6148258, params_23)"
   ]
  },
  {
   "cell_type": "code",
   "execution_count": null,
   "metadata": {},
   "outputs": [],
   "source": [
    "openml.evaluations.list_evaluations('area_under_roc_curve', id = [run_params_23.run_id])"
   ]
  },
  {
   "cell_type": "code",
   "execution_count": null,
   "metadata": {},
   "outputs": [],
   "source": [
    "test_task = openml.tasks.get_task(15)\n"
   ]
  },
  {
   "cell_type": "code",
   "execution_count": null,
   "metadata": {},
   "outputs": [],
   "source": [
    "split = test_task.download_split()"
   ]
  },
  {
   "cell_type": "code",
   "execution_count": null,
   "metadata": {},
   "outputs": [],
   "source": [
    "split = split.split[0]"
   ]
  },
  {
   "cell_type": "code",
   "execution_count": null,
   "metadata": {},
   "outputs": [],
   "source": [
    "split"
   ]
  },
  {
   "cell_type": "code",
   "execution_count": null,
   "metadata": {},
   "outputs": [],
   "source": [
    "test_task.estimation_procedure\n"
   ]
  },
  {
   "cell_type": "code",
   "execution_count": null,
   "metadata": {},
   "outputs": [],
   "source": [
    "params_20 = {'C': 22461.119025907585,\n",
    "         'coef0': -0.5424800953743301,\n",
    "         'degree': 2,\n",
    "         'gamma': 4.147016444636446,\n",
    "         'kernel': 'poly',\n",
    "         'probability': True,\n",
    "         'max_iter': -1,\n",
    "         'random_state': 1}\n",
    "\n",
    "run_cv_params_20 = svc_param_test_local(15, params_20, split)\n",
    "np.mean(run_cv_params_20)"
   ]
  },
  {
   "cell_type": "code",
   "execution_count": null,
   "metadata": {},
   "outputs": [],
   "source": [
    "'https://www.openml.org/api_splits/get/15/Task_15_splits.arff'"
   ]
  },
  {
   "cell_type": "code",
   "execution_count": null,
   "metadata": {},
   "outputs": [],
   "source": [
    "# predictions\n",
    "\n"
   ]
  }
 ],
 "metadata": {
  "kernelspec": {
   "display_name": "Python 3",
   "language": "python",
   "name": "python3"
  },
  "language_info": {
   "codemirror_mode": {
    "name": "ipython",
    "version": 3
   },
   "file_extension": ".py",
   "mimetype": "text/x-python",
   "name": "python",
   "nbconvert_exporter": "python",
   "pygments_lexer": "ipython3",
   "version": "3.7.1"
  }
 },
 "nbformat": 4,
 "nbformat_minor": 2
}
