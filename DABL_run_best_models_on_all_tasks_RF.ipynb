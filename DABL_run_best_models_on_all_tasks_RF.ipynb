{
 "cells": [
  {
   "cell_type": "markdown",
   "metadata": {},
   "source": [
    "# Best runs on all tasks"
   ]
  },
  {
   "cell_type": "markdown",
   "metadata": {},
   "source": [
    "## Import modules"
   ]
  },
  {
   "cell_type": "code",
   "execution_count": 2,
   "metadata": {},
   "outputs": [],
   "source": [
    "import openml\n",
    "from openml import tasks, flows, runs\n",
    "import sklearn\n",
    "from sklearn import feature_selection\n",
    "from sklearn.ensemble import RandomForestClassifier\n",
    "import pandas as pd\n",
    "import pprint\n",
    "from collections import OrderedDict, Counter\n",
    "from sklearn.pipeline import make_pipeline, Pipeline\n",
    "from sklearn.impute import SimpleImputer\n",
    "from sklearn.preprocessing import StandardScaler, OneHotEncoder\n",
    "from sklearn.compose import ColumnTransformer, make_column_transformer\n",
    "import re\n",
    "import random\n",
    "import numpy as np\n",
    "from datetime import datetime\n",
    "import sys\n",
    "import json\n",
    "from itertools import combinations\n",
    "import signal\n",
    "\n",
    "import importlib\n",
    "import utils.functions_analyze_runs\n",
    "importlib.reload(utils.functions_analyze_runs)\n",
    "importlib.reload(sklearn)\n",
    "from utils.functions_analyze_runs import get_run_info_rf, get_run_info\n",
    "\n",
    "# set api key\n",
    "openml.config.apikey = open('.key', 'r').readline().strip('\\n')\n"
   ]
  },
  {
   "cell_type": "code",
   "execution_count": 3,
   "metadata": {},
   "outputs": [],
   "source": [
    "import sklearn"
   ]
  },
  {
   "cell_type": "code",
   "execution_count": 4,
   "metadata": {},
   "outputs": [
    {
     "data": {
      "text/plain": [
       "'0.21.2'"
      ]
     },
     "execution_count": 4,
     "metadata": {},
     "output_type": "execute_result"
    }
   ],
   "source": [
    "sklearn.__version__"
   ]
  },
  {
   "cell_type": "code",
   "execution_count": 5,
   "metadata": {},
   "outputs": [],
   "source": [
    "# get all supervised classification tasks\n",
    "tasks_all = openml.tasks.list_tasks(task_type_id=1, output_format='dataframe', tag = 'OpenML-CC18')\n",
    "# drop problematic tasks\n",
    "tasks_all = tasks_all.drop([3573, 146825, 167121, 167124])\n"
   ]
  },
  {
   "cell_type": "markdown",
   "metadata": {},
   "source": [
    "## Get OpenML runs for RF flows"
   ]
  },
  {
   "cell_type": "code",
   "execution_count": 6,
   "metadata": {},
   "outputs": [],
   "source": [
    "# get SVC evals\n",
    "good_flows = [5804, 8365, 5909, 8918, 6969, 8315, 8351]\n",
    "evals = openml.evaluations.list_evaluations('area_under_roc_curve',\n",
    "                                            flow= good_flows, \n",
    "                                            task=list(tasks_all.tid),\n",
    "                                            output_format='dataframe'\n",
    "                                            )\n",
    "\n",
    "# rank evaluations\n",
    "evals['rank'] = evals.groupby('task_id')['value'].rank('first', ascending=False)\n",
    "\n",
    "# get best evaluations\n",
    "best_evals = evals.loc[evals['rank'] <= 5]"
   ]
  },
  {
   "cell_type": "code",
   "execution_count": 7,
   "metadata": {},
   "outputs": [
    {
     "data": {
      "text/plain": [
       "(335, 15)"
      ]
     },
     "execution_count": 7,
     "metadata": {},
     "output_type": "execute_result"
    }
   ],
   "source": [
    "best_evals.shape"
   ]
  },
  {
   "cell_type": "markdown",
   "metadata": {},
   "source": [
    "## Check categorical / numerical / mixed features"
   ]
  },
  {
   "cell_type": "code",
   "execution_count": 8,
   "metadata": {},
   "outputs": [
    {
     "name": "stdout",
     "output_type": "stream",
     "text": [
      "3 6 11 12 14 15 16 18 22 23 28 29 31 32 37 43 45 49 53 219 2074 2079 3021 3022 3481 3549 3560 3902 3903 3904 3913 3917 3918 7592 9910 9946 9952 9957 9960 9964 9971 9976 9977 9978 9981 9985 10093 10101 14952 14954 14965 14969 14970 125920 125922 146195 146800 146817 146819 146820 146821 146822 146824 167119 167120 167125 167140 167141 "
     ]
    }
   ],
   "source": [
    "# empty list to populate with feature types\n",
    "types = []\n",
    "\n",
    "for i in tasks_all.tid:\n",
    "    print(i, '', end = '')\n",
    "    \n",
    "    # get task\n",
    "    task = openml.tasks.get_task(i)\n",
    "\n",
    "    # get dataset object \n",
    "    data = openml.datasets.get_dataset(task.dataset_id)\n",
    "\n",
    "    # get relevant info from dataset object\n",
    "    X, y, categorical_indicator, attribute_names = data.get_data(dataset_format='array',\n",
    "                                                                target=data.default_target_attribute)\n",
    "    \n",
    "    if not any(categorical_indicator):\n",
    "        types.append((i, 'numeric'))\n",
    "    elif all(categorical_indicator):\n",
    "        types.append((i, 'categorical'))\n",
    "    else:\n",
    "        types.append((i, 'mixed'))\n",
    "\n",
    "cat_num = pd.DataFrame(types, columns = ['tid', 'cat_num'])\n",
    "cat_num = pd.DataFrame(types, columns=['tid', 'cat_num'])"
   ]
  },
  {
   "cell_type": "code",
   "execution_count": 9,
   "metadata": {
    "scrolled": true
   },
   "outputs": [
    {
     "data": {
      "text/html": [
       "<div>\n",
       "<style scoped>\n",
       "    .dataframe tbody tr th:only-of-type {\n",
       "        vertical-align: middle;\n",
       "    }\n",
       "\n",
       "    .dataframe tbody tr th {\n",
       "        vertical-align: top;\n",
       "    }\n",
       "\n",
       "    .dataframe thead th {\n",
       "        text-align: right;\n",
       "    }\n",
       "</style>\n",
       "<table border=\"1\" class=\"dataframe\">\n",
       "  <thead>\n",
       "    <tr style=\"text-align: right;\">\n",
       "      <th></th>\n",
       "      <th>tid</th>\n",
       "      <th>cat_num</th>\n",
       "    </tr>\n",
       "  </thead>\n",
       "  <tbody>\n",
       "    <tr>\n",
       "      <th>0</th>\n",
       "      <td>3</td>\n",
       "      <td>categorical</td>\n",
       "    </tr>\n",
       "    <tr>\n",
       "      <th>1</th>\n",
       "      <td>6</td>\n",
       "      <td>numeric</td>\n",
       "    </tr>\n",
       "    <tr>\n",
       "      <th>2</th>\n",
       "      <td>11</td>\n",
       "      <td>numeric</td>\n",
       "    </tr>\n",
       "    <tr>\n",
       "      <th>3</th>\n",
       "      <td>12</td>\n",
       "      <td>numeric</td>\n",
       "    </tr>\n",
       "    <tr>\n",
       "      <th>4</th>\n",
       "      <td>14</td>\n",
       "      <td>numeric</td>\n",
       "    </tr>\n",
       "    <tr>\n",
       "      <th>...</th>\n",
       "      <td>...</td>\n",
       "      <td>...</td>\n",
       "    </tr>\n",
       "    <tr>\n",
       "      <th>63</th>\n",
       "      <td>167119</td>\n",
       "      <td>numeric</td>\n",
       "    </tr>\n",
       "    <tr>\n",
       "      <th>64</th>\n",
       "      <td>167120</td>\n",
       "      <td>numeric</td>\n",
       "    </tr>\n",
       "    <tr>\n",
       "      <th>65</th>\n",
       "      <td>167125</td>\n",
       "      <td>mixed</td>\n",
       "    </tr>\n",
       "    <tr>\n",
       "      <th>66</th>\n",
       "      <td>167140</td>\n",
       "      <td>categorical</td>\n",
       "    </tr>\n",
       "    <tr>\n",
       "      <th>67</th>\n",
       "      <td>167141</td>\n",
       "      <td>mixed</td>\n",
       "    </tr>\n",
       "  </tbody>\n",
       "</table>\n",
       "<p>68 rows × 2 columns</p>\n",
       "</div>"
      ],
      "text/plain": [
       "       tid      cat_num\n",
       "0        3  categorical\n",
       "1        6      numeric\n",
       "2       11      numeric\n",
       "3       12      numeric\n",
       "4       14      numeric\n",
       "..     ...          ...\n",
       "63  167119      numeric\n",
       "64  167120      numeric\n",
       "65  167125        mixed\n",
       "66  167140  categorical\n",
       "67  167141        mixed\n",
       "\n",
       "[68 rows x 2 columns]"
      ]
     },
     "execution_count": 9,
     "metadata": {},
     "output_type": "execute_result"
    }
   ],
   "source": [
    "cat_num"
   ]
  },
  {
   "cell_type": "code",
   "execution_count": 10,
   "metadata": {},
   "outputs": [
    {
     "data": {
      "text/plain": [
       "numeric        45\n",
       "mixed          15\n",
       "categorical     8\n",
       "Name: cat_num, dtype: int64"
      ]
     },
     "execution_count": 10,
     "metadata": {},
     "output_type": "execute_result"
    }
   ],
   "source": [
    "# check distribution\n",
    "cat_num['cat_num'].value_counts()"
   ]
  },
  {
   "cell_type": "code",
   "execution_count": 11,
   "metadata": {
    "scrolled": true
   },
   "outputs": [
    {
     "data": {
      "text/plain": [
       "[23,\n",
       " 29,\n",
       " 31,\n",
       " 219,\n",
       " 2079,\n",
       " 3021,\n",
       " 3022,\n",
       " 7592,\n",
       " 9971,\n",
       " 9977,\n",
       " 14954,\n",
       " 14965,\n",
       " 125920,\n",
       " 167125,\n",
       " 167141]"
      ]
     },
     "execution_count": 11,
     "metadata": {},
     "output_type": "execute_result"
    }
   ],
   "source": [
    "# check ids of mixed feature tasks\n",
    "list(cat_num.tid.loc[cat_num.cat_num == 'mixed'])"
   ]
  },
  {
   "cell_type": "code",
   "execution_count": 12,
   "metadata": {},
   "outputs": [],
   "source": [
    "task_ids = cat_num[cat_num.cat_num != 'mixed'].tid"
   ]
  },
  {
   "cell_type": "code",
   "execution_count": 13,
   "metadata": {},
   "outputs": [
    {
     "data": {
      "text/plain": [
       "211821    10035743\n",
       "13697      5772820\n",
       "142160     9092193\n",
       "33203      5944902\n",
       "196962     9199065\n",
       "            ...   \n",
       "195799     9196781\n",
       "7          1860316\n",
       "208546    10029594\n",
       "160148     9128553\n",
       "99943      9001525\n",
       "Name: run_id, Length: 335, dtype: int64"
      ]
     },
     "execution_count": 13,
     "metadata": {},
     "output_type": "execute_result"
    }
   ],
   "source": [
    "best_evals.run_id.sample(frac=1)"
   ]
  },
  {
   "cell_type": "markdown",
   "metadata": {},
   "source": [
    "## Loop over all tasks"
   ]
  },
  {
   "cell_type": "code",
   "execution_count": 14,
   "metadata": {},
   "outputs": [
    {
     "data": {
      "text/plain": [
       "<Handlers.SIG_DFL: 0>"
      ]
     },
     "execution_count": 14,
     "metadata": {},
     "output_type": "execute_result"
    }
   ],
   "source": [
    "# define timeout handler\n",
    "def handler(signum, frame):\n",
    "    raise Exception(\"Timeout!\")\n",
    "    \n",
    "# Register the signal function handler\n",
    "signal.signal(signal.SIGALRM, handler)"
   ]
  },
  {
   "cell_type": "code",
   "execution_count": 1,
   "metadata": {
    "scrolled": true
   },
   "outputs": [
    {
     "ename": "NameError",
     "evalue": "name 'tasks_all' is not defined",
     "output_type": "error",
     "traceback": [
      "\u001b[0;31m---------------------------------------------------------------------------\u001b[0m",
      "\u001b[0;31mNameError\u001b[0m                                 Traceback (most recent call last)",
      "\u001b[0;32m<ipython-input-1-b52e7ccbb951>\u001b[0m in \u001b[0;36m<module>\u001b[0;34m\u001b[0m\n\u001b[1;32m      3\u001b[0m \u001b[0;34m\u001b[0m\u001b[0m\n\u001b[1;32m      4\u001b[0m     \u001b[0;31m# randomly sample a task\u001b[0m\u001b[0;34m\u001b[0m\u001b[0;34m\u001b[0m\u001b[0;34m\u001b[0m\u001b[0m\n\u001b[0;32m----> 5\u001b[0;31m     \u001b[0mi\u001b[0m \u001b[0;34m=\u001b[0m \u001b[0mtasks_all\u001b[0m\u001b[0;34m.\u001b[0m\u001b[0mtid\u001b[0m\u001b[0;34m.\u001b[0m\u001b[0msample\u001b[0m\u001b[0;34m(\u001b[0m\u001b[0;34m)\u001b[0m\u001b[0;34m.\u001b[0m\u001b[0miloc\u001b[0m\u001b[0;34m[\u001b[0m\u001b[0;36m0\u001b[0m\u001b[0;34m]\u001b[0m \u001b[0;31m# this samples from all tasks\u001b[0m\u001b[0;34m\u001b[0m\u001b[0;34m\u001b[0m\u001b[0m\n\u001b[0m\u001b[1;32m      6\u001b[0m     \u001b[0;31m#i = task_ids.sample() # sample from numeric or categorical only\u001b[0m\u001b[0;34m\u001b[0m\u001b[0;34m\u001b[0m\u001b[0;34m\u001b[0m\u001b[0m\n\u001b[1;32m      7\u001b[0m     \u001b[0mi\u001b[0m \u001b[0;34m=\u001b[0m \u001b[0;36m3481\u001b[0m\u001b[0;34m\u001b[0m\u001b[0;34m\u001b[0m\u001b[0m\n",
      "\u001b[0;31mNameError\u001b[0m: name 'tasks_all' is not defined"
     ]
    }
   ],
   "source": [
    "# infinite loop\n",
    "while 1:\n",
    "\n",
    "    # randomly sample a task\n",
    "    i = tasks_all.tid.sample().iloc[0] # this samples from all tasks\n",
    "    #i = task_ids.sample() # sample from numeric or categorical only\n",
    "    i = 3481\n",
    "\n",
    "    # get task\n",
    "    task = openml.tasks.get_task(i)\n",
    "    \n",
    "    # get dataset object\n",
    "    data = openml.datasets.get_dataset(task.dataset_id)\n",
    "\n",
    "    # get relevant info from dataset object\n",
    "    X, y, categorical_indicator, attribute_names = data.get_data(dataset_format='array',\n",
    "                                                                target=data.default_target_attribute)\n",
    "\n",
    "    # mask with feature types\n",
    "    cat = categorical_indicator\n",
    "    num = [not k for k in categorical_indicator]\n",
    "\n",
    "    # create column transformers\n",
    "    numeric_transformer = make_pipeline(#SimpleImputer(strategy='median'), \n",
    "                                        StandardScaler())\n",
    "\n",
    "    categorical_transformer = make_pipeline(#SimpleImputer(strategy='most_frequent'),\n",
    "                                            OneHotEncoder(handle_unknown='ignore'))\n",
    "\n",
    "    preprocessor = ColumnTransformer(\n",
    "    transformers=[\n",
    "    ('num', numeric_transformer, num),\n",
    "    ('cat', categorical_transformer, cat)])\n",
    "    \n",
    "    # loop over runs in random order\n",
    "    for k in best_evals.run_id.sample(frac=1):\n",
    "        \n",
    "        # set time limit\n",
    "        signal.alarm(3600)\n",
    "        \n",
    "        print('Run', k, 'on task', i)\n",
    "        print(datetime.now())\n",
    "        \n",
    "        try:\n",
    "            # get params\n",
    "            params = get_run_info_rf(k)\n",
    "\n",
    "            # define classifier\n",
    "            clf = RandomForestClassifier(**params)\n",
    "\n",
    "            # pick pipeline according to feature types\n",
    "            if not any(categorical_indicator):\n",
    "                pipe = make_pipeline(SimpleImputer(strategy='median'), StandardScaler(), clf)\n",
    "            elif all(categorical_indicator):\n",
    "                pipe = make_pipeline(SimpleImputer(strategy='most_frequent'), OneHotEncoder(handle_unknown='ignore'), clf)\n",
    "            else:\n",
    "                pipe = make_pipeline(SimpleImputer(strategy='most_frequent'), preprocessor, clf)\n",
    "                \n",
    "            # run best model on the task\n",
    "            run = openml.runs.run_model_on_task(pipe, task, avoid_duplicate_runs=True)\n",
    "\n",
    "            # print feedbackack\n",
    "            print('Publish openml run...')\n",
    "\n",
    "            # push tag\n",
    "            # run.push_tag('best_models')\n",
    "            # publish the run\n",
    "            \n",
    "            run.publish()\n",
    "            # print feedback\n",
    "            print('View run online: https://www.openml.org/r/' + str(run.run_id))\n",
    "            print('Setup', openml.runs.get_run(run.run_id).setup_id)\n",
    "            print('Flow', openml.runs.get_run(run.run_id).flow_id)\n",
    "            print()\n",
    "\n",
    "        except Exception as e:\n",
    "            print(e)\n"
   ]
  },
  {
   "cell_type": "code",
   "execution_count": null,
   "metadata": {},
   "outputs": [],
   "source": []
  }
 ],
 "metadata": {
  "kernelspec": {
   "display_name": "Python 3",
   "language": "python",
   "name": "python3"
  },
  "language_info": {
   "codemirror_mode": {
    "name": "ipython",
    "version": 3
   },
   "file_extension": ".py",
   "mimetype": "text/x-python",
   "name": "python",
   "nbconvert_exporter": "python",
   "pygments_lexer": "ipython3",
   "version": "3.7.1"
  }
 },
 "nbformat": 4,
 "nbformat_minor": 2
}
