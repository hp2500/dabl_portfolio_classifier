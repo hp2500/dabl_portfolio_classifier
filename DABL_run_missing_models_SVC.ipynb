{
 "cells": [
  {
   "cell_type": "markdown",
   "metadata": {},
   "source": [
    "# Run missing models"
   ]
  },
  {
   "cell_type": "markdown",
   "metadata": {},
   "source": [
    "## Import modules"
   ]
  },
  {
   "cell_type": "code",
   "execution_count": 2,
   "metadata": {},
   "outputs": [],
   "source": [
    "import openml\n",
    "import json\n",
    "import collections\n",
    "import pandas as pd\n",
    "import numpy as np\n",
    "import random\n",
    "from sklearn.preprocessing import MinMaxScaler, StandardScaler, OneHotEncoder\n",
    "from sklearn.impute import SimpleImputer\n",
    "from sklearn.pipeline import make_pipeline\n",
    "from sklearn.svm import SVC\n",
    "from sklearn.compose import make_column_transformer, ColumnTransformer\n",
    "from matplotlib import pyplot as plt\n",
    "\n",
    "# set api key\n",
    "openml.config.apikey = open('.key', 'r').readline().strip('\\n')\n",
    "\n",
    "# get all supervised classification tasks \n",
    "tasks_all = openml.tasks.list_tasks(task_type_id=1, output_format='dataframe', tag = 'OpenML-CC18')"
   ]
  },
  {
   "cell_type": "markdown",
   "metadata": {},
   "source": [
    "## Match Setups of Mixed Tasks"
   ]
  },
  {
   "cell_type": "markdown",
   "metadata": {},
   "source": [
    "### Get evaluations"
   ]
  },
  {
   "cell_type": "code",
   "execution_count": 3,
   "metadata": {},
   "outputs": [],
   "source": [
    "# get HGB evals\n",
    "evals = openml.evaluations.list_evaluations('area_under_roc_curve', \n",
    "                                            uploader = [8323], \n",
    "                                            flow=[16374, 16347, 16345], \n",
    "                                            output_format='dataframe')"
   ]
  },
  {
   "cell_type": "code",
   "execution_count": 4,
   "metadata": {},
   "outputs": [
    {
     "data": {
      "text/plain": [
       "3242"
      ]
     },
     "execution_count": 4,
     "metadata": {},
     "output_type": "execute_result"
    }
   ],
   "source": [
    "# get evals of mixed tasks\n",
    "mixed_tasks = [23, 29, 31, 219, 2079, 3021, 3022, 7592, 9971, 9977, 14954, 14965, 125920, 167125, 167141]\n",
    "evals_mixed = evals[evals.task_id.isin(mixed_tasks)]\n",
    "evals_mixed.shape\n",
    "len(evals_mixed.setup_id.unique())"
   ]
  },
  {
   "cell_type": "code",
   "execution_count": 5,
   "metadata": {},
   "outputs": [
    {
     "data": {
      "text/plain": [
       "327"
      ]
     },
     "execution_count": 5,
     "metadata": {},
     "output_type": "execute_result"
    }
   ],
   "source": [
    "# get evals of pure tasks\n",
    "ids = (evals.setup_id.value_counts()).index[(evals.setup_id.value_counts() >= 10)]\n",
    "evals_pure = evals[evals.setup_id.isin(ids)]\n",
    "evals_pure.shape\n",
    "len(evals_pure.setup_id.unique())"
   ]
  },
  {
   "cell_type": "markdown",
   "metadata": {},
   "source": [
    "### Get setups"
   ]
  },
  {
   "cell_type": "code",
   "execution_count": 6,
   "metadata": {
    "scrolled": true
   },
   "outputs": [],
   "source": [
    "# get setups of mixed tasks\n",
    "setup_info_names = list(evals_mixed.columns)\n",
    "param_names = ['C', 'cache_size', 'class_weight', 'coef0', 'decision_function_shape', \n",
    "               'degree', 'gamma', 'kernel', 'max_iter', 'probability', 'random_state', \n",
    "               'shrinking', 'tol', 'verbose']\n",
    "\n",
    "setups_mixed = pd.DataFrame(columns = setup_info_names+param_names)\n",
    "\n",
    "for i in evals_mixed.iterrows():\n",
    "    setup_model = openml.setups.initialize_model(i[1].setup_id)\n",
    "    params = setup_model.steps[2][1].get_params().values()\n",
    "    \n",
    "    setups_mixed.loc[len(setups_mixed)] = list(i[1])+list(params)"
   ]
  },
  {
   "cell_type": "code",
   "execution_count": 7,
   "metadata": {},
   "outputs": [],
   "source": [
    "# get setups of pure tasks\n",
    "setup_info_names = ['setup_id']\n",
    "param_names = list(openml.setups.initialize_model(8231383).steps[2][1].get_params().keys())\n",
    "\n",
    "setups_pure = pd.DataFrame(columns = setup_info_names+param_names)\n",
    "\n",
    "for i in evals_pure.setup_id.unique():\n",
    "    setup_model = openml.setups.initialize_model(i)\n",
    "    params = setup_model.steps[2][1].get_params().values()\n",
    "    \n",
    "    setups_pure.loc[len(setups_pure)] = [i]+list(params)\n"
   ]
  },
  {
   "cell_type": "markdown",
   "metadata": {},
   "source": [
    "### Match and reassign setups to correct setup_ids"
   ]
  },
  {
   "cell_type": "code",
   "execution_count": 8,
   "metadata": {
    "scrolled": true
   },
   "outputs": [
    {
     "name": "stdout",
     "output_type": "stream",
     "text": [
      "3324\r"
     ]
    }
   ],
   "source": [
    "# match setup_ids\n",
    "param_keys = ['C', 'coef0', 'degree', 'gamma', 'kernel', 'max_iter']\n",
    "id_match = pd.DataFrame(columns= ['setup_id_mixed', 'setup_id'])\n",
    "\n",
    "for i in range(len(setups_mixed)):\n",
    "    print(i, end='\\r')\n",
    "    for j in range(len(setups_pure)):\n",
    "        if all(setups_mixed.loc[i][param_keys] == setups_pure.loc[j][param_keys]): \n",
    "            id_match.loc[len(id_match)] = (setups_mixed.loc[i]['setup_id'], setups_pure.loc[j]['setup_id'])\n",
    "        "
   ]
  },
  {
   "cell_type": "code",
   "execution_count": 9,
   "metadata": {
    "scrolled": true
   },
   "outputs": [],
   "source": [
    "# reassign setup_ids\n",
    "evals_mixed_final = pd.DataFrame(columns = ['run_id', 'task_id', 'setup_id', 'flow_id', 'flow_name', 'data_id',\n",
    "                       'data_name', 'function', 'upload_time', 'value', 'values',\n",
    "                        'array_data'])\n",
    "\n",
    "for i in id_match.iterrows():\n",
    "    try:\n",
    "        x = evals_mixed[evals_mixed.setup_id == i[1][0]]\n",
    "        x.iat[0,2] = i[1][1]\n",
    "        evals_mixed_final.loc[len(evals_mixed_final)] = list(x.values[0])\n",
    "    except:\n",
    "        print('', end ='')\n",
    "    "
   ]
  },
  {
   "cell_type": "markdown",
   "metadata": {},
   "source": [
    "### Recreate evaluation matrix with matched setups"
   ]
  },
  {
   "cell_type": "code",
   "execution_count": 10,
   "metadata": {},
   "outputs": [],
   "source": [
    "# merge pure and mixed setups\n",
    "evals = evals_pure.append(evals_mixed_final)"
   ]
  },
  {
   "cell_type": "code",
   "execution_count": 11,
   "metadata": {},
   "outputs": [
    {
     "data": {
      "text/plain": [
       "(327, 59)"
      ]
     },
     "execution_count": 11,
     "metadata": {},
     "output_type": "execute_result"
    }
   ],
   "source": [
    "# drop runs with insufficient number of evals on CC-18\n",
    "ids = (evals.setup_id.value_counts()).index[(evals.setup_id.value_counts() >= 5)]\n",
    "evals_subset = evals[evals.setup_id.isin(ids)]\n",
    "\n",
    "# transform to wide format\n",
    "evals_wide = evals_subset.pivot_table(index = 'setup_id', \n",
    "                                      columns = 'task_id', \n",
    "                                      values = 'value')\n",
    "\n",
    "evals_wide.shape"
   ]
  },
  {
   "cell_type": "markdown",
   "metadata": {},
   "source": [
    "## Identify indices of missing runs"
   ]
  },
  {
   "cell_type": "code",
   "execution_count": 12,
   "metadata": {},
   "outputs": [
    {
     "data": {
      "text/plain": [
       "2829"
      ]
     },
     "execution_count": 12,
     "metadata": {},
     "output_type": "execute_result"
    }
   ],
   "source": [
    "# empty list for indices of missing values\n",
    "missing = []\n",
    "\n",
    "for i in evals_wide.columns:\n",
    "    for j in evals_wide.index:\n",
    "        \n",
    "        coordinates = (j, i)\n",
    "        \n",
    "        value = evals_wide.at[coordinates]\n",
    "\n",
    "        if np.isnan(value):\n",
    "            missing.append(coordinates)\n",
    "            \n",
    "len(missing)"
   ]
  },
  {
   "cell_type": "code",
   "execution_count": 13,
   "metadata": {},
   "outputs": [
    {
     "data": {
      "text/plain": [
       "2784"
      ]
     },
     "execution_count": 13,
     "metadata": {},
     "output_type": "execute_result"
    }
   ],
   "source": [
    "missing = [k for k in missing if k[1] != 167124 and k[1] != 146825 and k[1] != 3573]\n",
    "missing = [k for k in missing if k[0] != 6148258 and k[0] != 8231647]\n",
    "len(missing)"
   ]
  },
  {
   "cell_type": "code",
   "execution_count": 19,
   "metadata": {},
   "outputs": [
    {
     "data": {
      "image/png": "[encoded data removed]",
      "text/plain": [
       "<Figure size 1080x360 with 1 Axes>"
      ]
     },
     "metadata": {
      "needs_background": "light"
     },
     "output_type": "display_data"
    }
   ],
   "source": [
    "# count missing values for each task\n",
    "data = collections.Counter([x[1] for x in missing]).values()\n",
    "names = list(collections.Counter([x[1] for x in missing]).keys())\n",
    "\n",
    "# create barplot\n",
    "figure = plt.figure(figsize=(15,5))\n",
    "plt.bar(x = range(len(data)), height = data, tick_label = names);"
   ]
  },
  {
   "cell_type": "markdown",
   "metadata": {},
   "source": [
    "## Iterate through missing runs in random order"
   ]
  },
  {
   "cell_type": "code",
   "execution_count": null,
   "metadata": {},
   "outputs": [
    {
     "name": "stdout",
     "output_type": "stream",
     "text": [
      "Load task 167119\n",
      "Load model 8231614\n",
      "Run model...\n"
     ]
    }
   ],
   "source": [
    "random.shuffle(missing)\n",
    "\n",
    "# loop over tasks\n",
    "for i in missing.itertuples(index = False):\n",
    "    try: \n",
    "        # get task   \n",
    "        print('Load task', i[1])\n",
    "        task = openml.tasks.get_task(i[1])\n",
    "        \n",
    "        # get dataset object \n",
    "        data = openml.datasets.get_dataset(task.dataset_id)\n",
    "\n",
    "        # get relevant info from dataset object\n",
    "        X, y, categorical_indicator, attribute_names = data.get_data(dataset_format='array',\n",
    "                                                                    target=data.default_target_attribute)\n",
    "\n",
    "        cat = categorical_indicator\n",
    "        num = [not k for k in categorical_indicator]\n",
    "\n",
    "        numeric_transformer = make_pipeline(#SimpleImputer(strategy='median'), \n",
    "                                            StandardScaler())\n",
    "\n",
    "        categorical_transformer = make_pipeline(#SimpleImputer(strategy='most_frequent'),\n",
    "                                                OneHotEncoder(handle_unknown='ignore'))\n",
    "\n",
    "        preprocessor = ColumnTransformer(\n",
    "        transformers=[\n",
    "        ('num', numeric_transformer, num),\n",
    "        ('cat', categorical_transformer, cat)])\n",
    "        \n",
    "        # initialize model with parameters from run\n",
    "        print('Load model', i[0])\n",
    "        \n",
    "        if not any(categorical_indicator):\n",
    "            pipe = openml.setups.initialize_model(i[0])\n",
    "        elif all(categorical_indicator):\n",
    "            pipe = openml.setups.initialize_model(i[0])\n",
    "        else:\n",
    "            svc_params = openml.setups.initialize_model(8231564).steps[2][1].get_params()\n",
    "            clf = SVC(**svc_params)\n",
    "            pipe = make_pipeline(SimpleImputer(strategy='most_frequent'), preprocessor, clf)\n",
    "\n",
    "        # run best model on the task\n",
    "        print('Run model...')\n",
    "        run = openml.runs.run_model_on_task(pipe, task)\n",
    "\n",
    "        # print feedbackack\n",
    "        print('Publish openml run...')\n",
    "        print()\n",
    "\n",
    "        # publish the run \n",
    "        run.publish()\n",
    "\n",
    "    except Exception as e:\n",
    "        print(e)\n",
    "        continue\n",
    "  "
   ]
  }
 ],
 "metadata": {
  "kernelspec": {
   "display_name": "Python 3",
   "language": "python",
   "name": "python3"
  },
  "language_info": {
   "codemirror_mode": {
    "name": "ipython",
    "version": 3
   },
   "file_extension": ".py",
   "mimetype": "text/x-python",
   "name": "python",
   "nbconvert_exporter": "python",
   "pygments_lexer": "ipython3",
   "version": "3.7.1"
  }
 },
 "nbformat": 4,
 "nbformat_minor": 2
}
