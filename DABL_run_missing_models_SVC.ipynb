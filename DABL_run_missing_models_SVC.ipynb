{
 "cells": [
  {
   "cell_type": "markdown",
   "metadata": {},
   "source": [
    "# Run missing models"
   ]
  },
  {
   "cell_type": "markdown",
   "metadata": {},
   "source": [
    "## Import modules"
   ]
  },
  {
   "cell_type": "code",
   "execution_count": 1,
   "metadata": {},
   "outputs": [],
   "source": [
    "import openml\n",
    "import json\n",
    "import collections\n",
    "import pandas as pd\n",
    "import numpy as np\n",
    "import random\n",
    "from sklearn.preprocessing import MinMaxScaler, StandardScaler, OneHotEncoder\n",
    "from sklearn.impute import SimpleImputer\n",
    "from sklearn.pipeline import make_pipeline\n",
    "from sklearn.svm import SVC\n",
    "from sklearn.compose import make_column_transformer, ColumnTransformer\n",
    "from matplotlib import pyplot as plt\n",
    "from utils.functions_analyze_runs import get_run_info_svc\n",
    "from datetime import datetime\n",
    "import signal\n",
    "\n",
    "\n",
    "# set api key\n",
    "openml.config.apikey = open('.key', 'r').readline().strip('\\n')\n",
    "\n",
    "# get all supervised classification tasks \n",
    "tasks_all = openml.tasks.list_tasks(task_type_id=1, output_format='dataframe', tag = 'OpenML-CC18')"
   ]
  },
  {
   "cell_type": "code",
   "execution_count": 2,
   "metadata": {},
   "outputs": [],
   "source": [
    "missing = pd.read_csv('svc_missing.csv').iloc[:,[1,2]]"
   ]
  },
  {
   "cell_type": "code",
   "execution_count": 3,
   "metadata": {},
   "outputs": [
    {
     "data": {
      "text/html": [
       "<div>\n",
       "<style scoped>\n",
       "    .dataframe tbody tr th:only-of-type {\n",
       "        vertical-align: middle;\n",
       "    }\n",
       "\n",
       "    .dataframe tbody tr th {\n",
       "        vertical-align: top;\n",
       "    }\n",
       "\n",
       "    .dataframe thead th {\n",
       "        text-align: right;\n",
       "    }\n",
       "</style>\n",
       "<table border=\"1\" class=\"dataframe\">\n",
       "  <thead>\n",
       "    <tr style=\"text-align: right;\">\n",
       "      <th></th>\n",
       "      <th>setup_id</th>\n",
       "      <th>task_id</th>\n",
       "    </tr>\n",
       "  </thead>\n",
       "  <tbody>\n",
       "    <tr>\n",
       "      <th>0</th>\n",
       "      <td>8255924</td>\n",
       "      <td>15</td>\n",
       "    </tr>\n",
       "    <tr>\n",
       "      <th>1</th>\n",
       "      <td>8255509</td>\n",
       "      <td>18</td>\n",
       "    </tr>\n",
       "    <tr>\n",
       "      <th>2</th>\n",
       "      <td>8255534</td>\n",
       "      <td>18</td>\n",
       "    </tr>\n",
       "    <tr>\n",
       "      <th>3</th>\n",
       "      <td>8255535</td>\n",
       "      <td>18</td>\n",
       "    </tr>\n",
       "    <tr>\n",
       "      <th>4</th>\n",
       "      <td>8255559</td>\n",
       "      <td>18</td>\n",
       "    </tr>\n",
       "    <tr>\n",
       "      <th>...</th>\n",
       "      <td>...</td>\n",
       "      <td>...</td>\n",
       "    </tr>\n",
       "    <tr>\n",
       "      <th>1353</th>\n",
       "      <td>8255930</td>\n",
       "      <td>167120</td>\n",
       "    </tr>\n",
       "    <tr>\n",
       "      <th>1354</th>\n",
       "      <td>8255938</td>\n",
       "      <td>167120</td>\n",
       "    </tr>\n",
       "    <tr>\n",
       "      <th>1355</th>\n",
       "      <td>8255939</td>\n",
       "      <td>167120</td>\n",
       "    </tr>\n",
       "    <tr>\n",
       "      <th>1356</th>\n",
       "      <td>8255951</td>\n",
       "      <td>167120</td>\n",
       "    </tr>\n",
       "    <tr>\n",
       "      <th>1357</th>\n",
       "      <td>8256151</td>\n",
       "      <td>167120</td>\n",
       "    </tr>\n",
       "  </tbody>\n",
       "</table>\n",
       "<p>1358 rows × 2 columns</p>\n",
       "</div>"
      ],
      "text/plain": [
       "      setup_id  task_id\n",
       "0      8255924       15\n",
       "1      8255509       18\n",
       "2      8255534       18\n",
       "3      8255535       18\n",
       "4      8255559       18\n",
       "...        ...      ...\n",
       "1353   8255930   167120\n",
       "1354   8255938   167120\n",
       "1355   8255939   167120\n",
       "1356   8255951   167120\n",
       "1357   8256151   167120\n",
       "\n",
       "[1358 rows x 2 columns]"
      ]
     },
     "execution_count": 3,
     "metadata": {},
     "output_type": "execute_result"
    }
   ],
   "source": [
    "missing"
   ]
  },
  {
   "cell_type": "code",
   "execution_count": 4,
   "metadata": {},
   "outputs": [
    {
     "data": {
      "text/plain": [
       "array([    15,     18,     22,     32,     37,     43,    219,   3903,\n",
       "         3904,   3917,   7592,   9952,   9960,   9976,   9977,   9985,\n",
       "        10093,  10101,  14965,  14969, 146195, 146822, 167119, 167120])"
      ]
     },
     "execution_count": 4,
     "metadata": {},
     "output_type": "execute_result"
    }
   ],
   "source": [
    "missing.task_id.unique()"
   ]
  },
  {
   "cell_type": "markdown",
   "metadata": {},
   "source": [
    "## Iterate through missing runs in random order"
   ]
  },
  {
   "cell_type": "code",
   "execution_count": 5,
   "metadata": {},
   "outputs": [
    {
     "data": {
      "text/plain": [
       "<Handlers.SIG_DFL: 0>"
      ]
     },
     "execution_count": 5,
     "metadata": {},
     "output_type": "execute_result"
    }
   ],
   "source": [
    "# define timeout handler\n",
    "def handler(signum, frame):\n",
    "    raise Exception(\"Timeout!\")\n",
    "    \n",
    "# Register the signal function handler\n",
    "signal.signal(signal.SIGALRM, handler)"
   ]
  },
  {
   "cell_type": "code",
   "execution_count": null,
   "metadata": {
    "scrolled": true
   },
   "outputs": [
    {
     "name": "stdout",
     "output_type": "stream",
     "text": [
      "Run 8255924 on task 15\n",
      "2020-08-17 13:12:57.314017\n",
      "Publish openml run...\n",
      "View run online: https://www.openml.org/r/10559658\n",
      "Setup 8270498\n",
      "Flow 17494\n",
      "\n",
      "Run 8255559 on task 18\n",
      "2020-08-17 13:13:00.006518\n"
     ]
    }
   ],
   "source": [
    "# infinite loop\n",
    "for i in [    15,     18,     22,     32,     37,     43,    219,   3903,\n",
    "         3904,   3917,   7592,   9952,   9960,   9976,   9977,   9985,\n",
    "        10093,  10101,  14965,  14969, 146195, 146822, 167119, 167120]:\n",
    "\n",
    "    # get task\n",
    "    task = openml.tasks.get_task(i)\n",
    "    \n",
    "    # get dataset object\n",
    "    data = openml.datasets.get_dataset(task.dataset_id)\n",
    "\n",
    "    # get relevant info from dataset object\n",
    "    X, y, categorical_indicator, attribute_names = data.get_data(dataset_format='array',\n",
    "                                                                target=data.default_target_attribute)\n",
    "\n",
    "    # mask with feature types\n",
    "    cat = categorical_indicator\n",
    "    num = [not k for k in categorical_indicator]\n",
    "\n",
    "    # create column transformers\n",
    "    numeric_transformer = make_pipeline(#SimpleImputer(strategy='median'), \n",
    "                                        StandardScaler())\n",
    "\n",
    "    categorical_transformer = make_pipeline(#SimpleImputer(strategy='most_frequent'),\n",
    "                                            OneHotEncoder(handle_unknown='ignore'))\n",
    "\n",
    "    preprocessor = ColumnTransformer(\n",
    "    transformers=[\n",
    "    ('num', numeric_transformer, num),\n",
    "    ('cat', categorical_transformer, cat)])\n",
    "    \n",
    "    # loop over runs in random order\n",
    "    for k in missing[missing['task_id'] == i].setup_id.sample(frac=1):\n",
    "        \n",
    "        print('Run', k, 'on task', i)\n",
    "        print(datetime.now())\n",
    "        \n",
    "        try:\n",
    "            \n",
    "            # set time limit\n",
    "            signal.alarm(600)\n",
    "            \n",
    "            # get params\n",
    "            params = openml.setups.initialize_model(k).steps[2][1].get_params()\n",
    "\n",
    "            # define classifier\n",
    "            clf = SVC(**params)\n",
    "\n",
    "            # pick pipeline according to feature types\n",
    "            if not any(categorical_indicator):\n",
    "                pipe = make_pipeline(SimpleImputer(strategy='median'), StandardScaler(), clf)\n",
    "            elif all(categorical_indicator):\n",
    "                pipe = make_pipeline(SimpleImputer(strategy='most_frequent'), OneHotEncoder(handle_unknown='ignore'), clf)\n",
    "            else:\n",
    "                pipe = make_pipeline(SimpleImputer(strategy='most_frequent'), preprocessor, clf)\n",
    "                \n",
    "            # run best model on the task\n",
    "            run = openml.runs.run_model_on_task(pipe, task, avoid_duplicate_runs=False)\n",
    "\n",
    "            # print feedbackack\n",
    "            print('Publish openml run...')\n",
    "\n",
    "            # push tag\n",
    "            # run.push_tag('best_models')\n",
    "            # publish the run\n",
    "            \n",
    "            run.publish()\n",
    "            # print feedback\n",
    "            print('View run online: https://www.openml.org/r/' + str(run.run_id))\n",
    "            print('Setup', openml.runs.get_run(run.run_id).setup_id)\n",
    "            print('Flow', openml.runs.get_run(run.run_id).flow_id)\n",
    "            print()\n",
    "\n",
    "        except Exception as e:\n",
    "            print(e)\n"
   ]
  },
  {
   "cell_type": "code",
   "execution_count": null,
   "metadata": {},
   "outputs": [],
   "source": [
    "8255692\n",
    "8255559\n",
    "8255736"
   ]
  }
 ],
 "metadata": {
  "kernelspec": {
   "display_name": "Python 3",
   "language": "python",
   "name": "python3"
  },
  "language_info": {
   "codemirror_mode": {
    "name": "ipython",
    "version": 3
   },
   "file_extension": ".py",
   "mimetype": "text/x-python",
   "name": "python",
   "nbconvert_exporter": "python",
   "pygments_lexer": "ipython3",
   "version": "3.7.1"
  }
 },
 "nbformat": 4,
 "nbformat_minor": 2
}
